{
 "cells": [
  {
   "cell_type": "code",
   "execution_count": 1,
   "metadata": {},
   "outputs": [],
   "source": [
    "encoded_text = \"RmlsZV9OYW1lLFRpbWVzdGFtcCxYLFksWixDCmltYWdlXzAsMjAyNS0wMS0xNCAxMjo0ODo0OC4xODgyMTEsNDcuMjMxOCwtMTE2LjE3MDQ0LDE2Ny4xOTM5Nyw1NzEuMDk0NAo=\""
   ]
  },
  {
   "cell_type": "code",
   "execution_count": null,
   "metadata": {},
   "outputs": [],
   "source": [
    "from collect2 import *\n",
    "\n",
    "frames_paths = capture_frames_to_send()\n",
    "rgb_zip_path = frames_paths['rgb_zip_path']\n",
    "depth_zip_path = frames_paths['depth_zip_path']\n",
    "folder_path = frames_paths['folder_path']\n",
    "decoded_csv_data, keypoints = process_images(rgb_zip_path, depth_zip_path, output_dir=f\"{folder_path}/output\")\n",
    "\n",
    "\n"
   ]
  },
  {
   "cell_type": "code",
   "execution_count": null,
   "metadata": {},
   "outputs": [],
   "source": [
    "plot_points(f'{folder_path}/rgb_image.jpg', keypoints, radius=3)\n"
   ]
  }
 ],
 "metadata": {
  "kernelspec": {
   "display_name": "AIHand",
   "language": "python",
   "name": "python3"
  },
  "language_info": {
   "codemirror_mode": {
    "name": "ipython",
    "version": 3
   },
   "file_extension": ".py",
   "mimetype": "text/x-python",
   "name": "python",
   "nbconvert_exporter": "python",
   "pygments_lexer": "ipython3",
   "version": "3.10.15"
  }
 },
 "nbformat": 4,
 "nbformat_minor": 2
}
